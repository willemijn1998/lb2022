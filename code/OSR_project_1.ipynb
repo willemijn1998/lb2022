{
 "cells": [
  {
   "cell_type": "markdown",
   "id": "victorian-peeing",
   "metadata": {},
   "source": [
    "# Leren en Beslissen - Open Set Recognition 1\n",
    "\n",
    "This is the first notebook of the project - and it consists of the following topics: \n",
    "1. The softmax, getting familiar \n",
    "2. The baseline model\n",
    "\n",
    "Some good starting points for getting familiar with Open Set Recognition are the original OSR paper [5] and the Baseline paper [2]. \n",
    "\n",
    "\n",
    "First, import some standard libraries. Feel free to add/ remove anything as you please. "
   ]
  },
  {
   "cell_type": "code",
   "execution_count": 1,
   "id": "alert-surrey",
   "metadata": {},
   "outputs": [],
   "source": [
    "# Standard \n",
    "import numpy as np \n",
    "import math \n",
    "import time \n",
    "import pickle \n",
    "\n",
    "\n",
    "# Plotting \n",
    "import matplotlib.pyplot as plt\n",
    "import seaborn as sns\n",
    "sns.set()\n",
    "\n",
    "# Progress bar \n",
    "import tqdm \n",
    "\n",
    "# Pytorch \n",
    "import torch\n",
    "import torch.nn as nn\n",
    "import torch.nn.functional as F\n",
    "import torch.utils.data as data\n",
    "import torch.optim as optim\n",
    "\n",
    "# A simple MLP \n",
    "from simpleMLP import *"
   ]
  },
  {
   "cell_type": "code",
   "execution_count": 6,
   "id": "medical-investing",
   "metadata": {},
   "outputs": [],
   "source": [
    "# Folder where the datasets are/should be downloaded to. \n",
    "DATA_PATH = '../data'\n",
    "# Folder where to save pretrained models to. \n",
    "TRAINED_PATH = '../trained_models'\n",
    "\n",
    "# Make the trained path folder if it doesn't already exist \n",
    "os.makedirs(TRAINED_PATH, exist_ok=True)"
   ]
  },
  {
   "cell_type": "markdown",
   "id": "amino-leisure",
   "metadata": {},
   "source": [
    "## 1. The softmax, getting familiar \n",
    "\n",
    "### Pytorch \n",
    "\n",
    "Pytorch is a common framework for creating Deep Neural Nets. It is created by Facebook, and currenty the fastest growing method for Neural Networks. Another popular one is Tensorflow, which was created by Google. We will be using Pytorch since it is the main one used at the UvA and other research facilities. \n",
    "\n",
    "For a tutorial on Pytorch, you can use this [UvA Tutorial](https://uvadlc-notebooks.readthedocs.io/en/latest/tutorial_notebooks/tutorial2/Introduction_to_PyTorch.html) made by the UvA Deep Learning team. Try to get familiar with Pytorch, we will be using this framework from now on. \n",
    "\n",
    "### Multilayer Perceptron \n",
    "\n",
    "The network we will use for our classification is a multilayer perceptron (MLP). This is a feedforward Neural Network that is fully connected and can exist of an arbitrary number of hidden layers. To read up on MLPs, you can go to this [blogpost](https://towardsdatascience.com/multilayer-perceptron-explained-with-a-real-life-example-and-python-code-sentiment-analysis-cb408ee93141) or any other blogpost/Youtube video/Deep Learning book. \n",
    "\n",
    "In the file `simpleMLP.py` I have created a simple MLP that consists of two hidden layers, two ReLU activation functions, and a Softmax layer at the end. The model takes a flattened image and returns the **log** Softmax scores. This file also  includes a function for evaluating and training the model. \n",
    "\n",
    "You can experiment with all functions. For example, making the MLP wider, deeper, using different activation functions, etc. \n",
    "\n",
    "#### MNIST \n",
    "\n",
    "To train our MLP we need a dataset. We will use the famous MNIST dataset. This is a widely used benchmark dataset that consists of handwritten digits. Pytorch has a nice standard import function. Furthermore torchvision offers _dataloaders_ that loop through data sets, these are convenient for training. With the dataloaders you can change batch and set sizes. "
   ]
  },
  {
   "cell_type": "code",
   "execution_count": 3,
   "id": "located-crown",
   "metadata": {},
   "outputs": [
    {
     "name": "stdout",
     "output_type": "stream",
     "text": [
      "Downloading http://yann.lecun.com/exdb/mnist/train-images-idx3-ubyte.gz\n",
      "Downloading http://yann.lecun.com/exdb/mnist/train-images-idx3-ubyte.gz to ../data/MNIST/raw/train-images-idx3-ubyte.gz\n"
     ]
    },
    {
     "data": {
      "application/vnd.jupyter.widget-view+json": {
       "model_id": "194b9ca15cc6454abec0ec924db1459d",
       "version_major": 2,
       "version_minor": 0
      },
      "text/plain": [
       "  0%|          | 0/9912422 [00:00<?, ?it/s]"
      ]
     },
     "metadata": {},
     "output_type": "display_data"
    },
    {
     "name": "stdout",
     "output_type": "stream",
     "text": [
      "Extracting ../data/MNIST/raw/train-images-idx3-ubyte.gz to ../data/MNIST/raw\n",
      "\n",
      "Downloading http://yann.lecun.com/exdb/mnist/train-labels-idx1-ubyte.gz\n",
      "Downloading http://yann.lecun.com/exdb/mnist/train-labels-idx1-ubyte.gz to ../data/MNIST/raw/train-labels-idx1-ubyte.gz\n"
     ]
    },
    {
     "data": {
      "application/vnd.jupyter.widget-view+json": {
       "model_id": "55b2037ec4ba43428f2fadd7a697cd65",
       "version_major": 2,
       "version_minor": 0
      },
      "text/plain": [
       "  0%|          | 0/28881 [00:00<?, ?it/s]"
      ]
     },
     "metadata": {},
     "output_type": "display_data"
    },
    {
     "name": "stdout",
     "output_type": "stream",
     "text": [
      "Extracting ../data/MNIST/raw/train-labels-idx1-ubyte.gz to ../data/MNIST/raw\n",
      "\n",
      "Downloading http://yann.lecun.com/exdb/mnist/t10k-images-idx3-ubyte.gz\n",
      "Downloading http://yann.lecun.com/exdb/mnist/t10k-images-idx3-ubyte.gz to ../data/MNIST/raw/t10k-images-idx3-ubyte.gz\n"
     ]
    },
    {
     "data": {
      "application/vnd.jupyter.widget-view+json": {
       "model_id": "3927192f108c49519a3c881e5752aea8",
       "version_major": 2,
       "version_minor": 0
      },
      "text/plain": [
       "  0%|          | 0/1648877 [00:00<?, ?it/s]"
      ]
     },
     "metadata": {},
     "output_type": "display_data"
    },
    {
     "name": "stdout",
     "output_type": "stream",
     "text": [
      "Extracting ../data/MNIST/raw/t10k-images-idx3-ubyte.gz to ../data/MNIST/raw\n",
      "\n",
      "Downloading http://yann.lecun.com/exdb/mnist/t10k-labels-idx1-ubyte.gz\n",
      "Downloading http://yann.lecun.com/exdb/mnist/t10k-labels-idx1-ubyte.gz to ../data/MNIST/raw/t10k-labels-idx1-ubyte.gz\n"
     ]
    },
    {
     "data": {
      "application/vnd.jupyter.widget-view+json": {
       "model_id": "fadd396c8ad4410a9dfb832fcb614cac",
       "version_major": 2,
       "version_minor": 0
      },
      "text/plain": [
       "  0%|          | 0/4542 [00:00<?, ?it/s]"
      ]
     },
     "metadata": {},
     "output_type": "display_data"
    },
    {
     "name": "stdout",
     "output_type": "stream",
     "text": [
      "Extracting ../data/MNIST/raw/t10k-labels-idx1-ubyte.gz to ../data/MNIST/raw\n",
      "\n"
     ]
    }
   ],
   "source": [
    "# Import the dataset \n",
    "from torchvision.datasets import MNIST\n",
    "from torchvision.transforms import ToTensor\n",
    "\n",
    "mnist_train = MNIST(root=DATA_PATH, train=True, download=True, transform=ToTensor())\n",
    "mnist_test_set = MNIST(root=DATA_PATH, train=False, download=True, transform=ToTensor())\n",
    "\n",
    "# Define the train-val split \n",
    "mnist_train_set, mnist_val_set = torch.utils.data.random_split(mnist_train, [50000, 10000])\n",
    "\n",
    "# Create dataloaders for the val, test and train sets - put them in a dictionary \n",
    "mnist_loader = {}\n",
    "mnist_loader['train'] = data.DataLoader(mnist_train_set, batch_size=1024, shuffle=True, drop_last=False)\n",
    "mnist_loader['val'] = data.DataLoader(mnist_val_set, batch_size=1024, shuffle=True, drop_last=False)\n",
    "mnist_loader['test'] = data.DataLoader(mnist_test_set, batch_size=1024, shuffle=True, drop_last=False)\n"
   ]
  },
  {
   "cell_type": "markdown",
   "id": "adequate-frank",
   "metadata": {},
   "source": [
    "#### Training\n",
    "Now that we have our MLP and dataloader ready, we can start training our network. Again, you can change around with number of epochs, learning rate (lr), number of hidden dimensions, loss module, etc. One thing to pay attention to when training are the in_dimension and the out_dimension. For MNIST, which is an image of 1x28x28 pixels, we have input dimension (after flattening) of $1 \\times 28 \\times 28 = 784$ pixels. It has 10 classes (0 to 9) so the output dimension should be 10. When training, try to loop through different seeds to get the mean and variance. \n",
    "\n",
    "Save the model weights so that you do not need to train again when, you can just load and use it. This saves a lot of time. "
   ]
  },
  {
   "cell_type": "code",
   "execution_count": 12,
   "id": "fiscal-dominant",
   "metadata": {},
   "outputs": [
    {
     "name": "stdout",
     "output_type": "stream",
     "text": [
      "[Epoch  1] Training accuracy: 19.53%, Validation accuracy: 19.48%\n",
      "Test accuracy 19.37%\n"
     ]
    }
   ],
   "source": [
    "# Train model on MNIST for one seed \n",
    "\n",
    "best_model, val_accuracies, train_accuracies, test_acc, train_losses = train_MLP(data_loader=mnist_loader, \n",
    "                                                                   in_dimension=28*28, \n",
    "                                                                   hidden_dims=[128,256], \n",
    "                                                                   out_dimension=10, epochs=1, \n",
    "                                                                   lr=0.01, seed=0)\n",
    "\n",
    "# Save the model\n",
    "model_name = 'MLP_1'\n",
    "model_file_path = os.path.join(TRAINED_PATH, model_name+'.tar')\n",
    "torch.save(best_model.state_dict(), model_file_path)\n"
   ]
  },
  {
   "cell_type": "code",
   "execution_count": 13,
   "id": "advised-directory",
   "metadata": {},
   "outputs": [
    {
     "data": {
      "text/plain": [
       "SimpleMLP(\n",
       "  (net): Sequential(\n",
       "    (0): Linear(in_features=784, out_features=128, bias=True)\n",
       "    (1): ReLU()\n",
       "    (2): Linear(in_features=128, out_features=256, bias=True)\n",
       "    (3): ReLU()\n",
       "    (4): Linear(in_features=256, out_features=10, bias=True)\n",
       "    (5): LogSoftmax(dim=1)\n",
       "  )\n",
       ")"
      ]
     },
     "execution_count": 13,
     "metadata": {},
     "output_type": "execute_result"
    }
   ],
   "source": [
    "# Load the model \n",
    "model = SimpleMLP(28*28, [128,256], 10)\n",
    "model.load_state_dict(torch.load(model_file_path))\n",
    "model.eval()"
   ]
  },
  {
   "cell_type": "markdown",
   "id": "widespread-sunday",
   "metadata": {},
   "source": [
    "### Open Set Recognition \n",
    "\n",
    "For Open Set Recognition you have to take a dataset as _known_ and one as _unknown_, the _known_ dataset is the one you trained your model on, and the _unknown_ dataset should never be seen during training. \n",
    "\n",
    "We will first take the MNIST as the _known_ examples, and CIFAR10 as the _unknown_ dataset. Luckily we have already created and trained the MLP on MNIST, so we just need to define the CIFAR10 dataloader. When evaluating a model, it is important to define the \"openness\" of your problem. This means, how many _unknown_ samples will be seen during inference versus how many _known_ samples will be seen. When you start comparing certain datasets, models or OSR methods, make sure to keep the openness constant for best comparison. \n",
    "\n",
    "The CIFAR10 dataset consists of 3x32x32 pixel images, where the 3 stands for the three color channels (RGB). In order to plug this dataset into the MLP that you trained on MNIST, you have to transform the images. Pytorch has some built-in functions for this. "
   ]
  },
  {
   "cell_type": "code",
   "execution_count": 14,
   "id": "imported-prediction",
   "metadata": {},
   "outputs": [
    {
     "name": "stdout",
     "output_type": "stream",
     "text": [
      "Downloading https://www.cs.toronto.edu/~kriz/cifar-10-python.tar.gz to ../data/cifar-10-python.tar.gz\n"
     ]
    },
    {
     "data": {
      "application/vnd.jupyter.widget-view+json": {
       "model_id": "4dedc514422b46d7bd8aa5f1d9715a15",
       "version_major": 2,
       "version_minor": 0
      },
      "text/plain": [
       "  0%|          | 0/170498071 [00:00<?, ?it/s]"
      ]
     },
     "metadata": {},
     "output_type": "display_data"
    },
    {
     "name": "stdout",
     "output_type": "stream",
     "text": [
      "Extracting ../data/cifar-10-python.tar.gz to ../data\n"
     ]
    }
   ],
   "source": [
    "# Import CIFAR10 datasets \n",
    "from torchvision.datasets import CIFAR10\n",
    "import torchvision.transforms as transforms\n",
    "\n",
    "# function for transforming CIFAR10 to a 1x28x28 pixel image\n",
    "cifar_transform = transforms.Compose([transforms.Grayscale(num_output_channels=1), \n",
    "                                      transforms.RandomCrop((28,28)), \n",
    "                                      transforms.ToTensor()])\n",
    "\n",
    "# load the dataset, it will be downloaded if it is not yet in your datapath\n",
    "cifar_set = CIFAR10(root=DATA_PATH, train=False, download=True, transform=cifar_transform)\n",
    "\n",
    "# subset the cifar dataset such that you will get your desired openness\n",
    "cifar_subset, _ = torch.utils.data.random_split(cifar_set, [5000, 5000])\n",
    "cifar_loader = data.DataLoader(cifar_subset, batch_size=1024, shuffle=True, drop_last=False)"
   ]
  },
  {
   "cell_type": "markdown",
   "id": "closed-newfoundland",
   "metadata": {},
   "source": [
    "A visualisation of the cropped and converted to grayscale CIFAR10 images. "
   ]
  },
  {
   "cell_type": "code",
   "execution_count": 15,
   "id": "residential-appreciation",
   "metadata": {},
   "outputs": [
    {
     "name": "stdout",
     "output_type": "stream",
     "text": [
      "torch.Size([1024, 1, 28, 28])\n"
     ]
    },
    {
     "data": {
      "image/png": "[encoded data removed]",
      "text/plain": [
       "<Figure size 432x288 with 1 Axes>"
      ]
     },
     "metadata": {},
     "output_type": "display_data"
    }
   ],
   "source": [
    "for x,y in cifar_loader: \n",
    "    print(x.shape)\n",
    "    plt.imshow(x[0].view(28,28), cmap='gray')\n",
    "    plt.show()\n",
    "    break"
   ]
  },
  {
   "cell_type": "markdown",
   "id": "broke-burns",
   "metadata": {},
   "source": [
    "#### Softmax scores \n",
    "\n",
    "Now that we have our MLP model and both datasets ready, we are going to analyse different Softmax scores. Note that the model outputs are **log** Softmaxes. \n",
    "\n",
    "> **Exercise 1A** For a model trained on certain classes, what are the differences between the softmax scores of new images of the seen classes and images of unseen classes during inference? How would you measure this? How would you collect your observations into a meaningful overview/representation? Motivate your answer. \n",
    "\n",
    "Look at the papers mentioned above for some intuition regarding the softmax scores of _known_ and _unknown_ datasets. Especially the papers [2] and [4] offer some useful intuitions regarding Softmax scores. I would recommend writing (several) functions that compare the softmax scores of the MLP model for known and unknown examples. "
   ]
  },
  {
   "cell_type": "code",
   "execution_count": 16,
   "id": "duplicate-adult",
   "metadata": {},
   "outputs": [],
   "source": [
    "# Use this block for your functions and/or visualisations "
   ]
  },
  {
   "cell_type": "markdown",
   "id": "social-printing",
   "metadata": {},
   "source": [
    "#### Open set splits \n",
    "\n",
    "We have now used the open-set split MNIST (as the known set) and CIFAR10 (as the unknown set). \n",
    "\n",
    "> **Exercise 1B** Which types of open-set splits cause a larger difference in softmax scores? Think about which unseen classes would differ, intuitively, more/less from the seen classes. Find your own data sets online and perform tests. Explain the differences you find. \n",
    "\n",
    "Pytorch offers some nice datasets, would be interesting to take a look at that. Some benchmark datasets that are often used for Open Set Recognition are: SVHN, TinyImageNet, CIFAR10, CIFAR100, TinyImageNet. Alternatively, you could add noise to some of the datasets to turn them into _unknown_ during inference. \n",
    "\n",
    "When comparing open-set splits, try to keep the hyperparameters/ variables as close to each other as possible. Also make sure the input dimensions of the _known_ and _unknown_ datasets are the same. Probably you have to perform transformations like for the CIFAR10 set. "
   ]
  },
  {
   "cell_type": "code",
   "execution_count": 12,
   "id": "broken-baptist",
   "metadata": {},
   "outputs": [],
   "source": [
    "# Import/download datasets here\n",
    "\n",
    "# It is smart to create a list of splits so that you can loop through\n",
    "# these for the next exercises [(known, unknown), (...,...), ...]\n",
    "\n",
    "list_of_splits = [(mnist_loader['test'], cifar_loader), ...]"
   ]
  },
  {
   "cell_type": "markdown",
   "id": "strange-insert",
   "metadata": {},
   "source": [
    "## 2. The baseline \n",
    "\n",
    "The baseline model by Hendrycks et al. (2017) uses the pure softmax scores to classify examples as known or unknown - and classify them to a class whenever it is known. \n",
    "\n",
    "> **Exercise 2A** Which metrics are suitable for reporting the performance of an open-set recognition model? Name at least 3 and explain their components. Choose your preferred metric(s) for reporting performance throughout the project.\n",
    "\n",
    "This is a theoretical exercise, so do some research on OSR metrics. Take into account that the Baseline OSR is a binary classification first, and a multiclass classification second. "
   ]
  },
  {
   "cell_type": "markdown",
   "id": "animal-affiliate",
   "metadata": {},
   "source": [
    "<!-- Your answer:  -->\n",
    "\n",
    "... "
   ]
  },
  {
   "cell_type": "markdown",
   "id": "favorite-antenna",
   "metadata": {},
   "source": [
    "Now build the baseline method. You can use the models for the datasets as previously trained. You do not need to retrain the model, you only have to find the optimal threshold for best known-unknown classification. We keep it simple so you do not need to perform the known-set classification whenever the model returns the label \"known\". Write functions for the performance metrics found in exercise 2A. "
   ]
  },
  {
   "cell_type": "code",
   "execution_count": null,
   "id": "agricultural-lightning",
   "metadata": {},
   "outputs": [],
   "source": [
    "# Build the baseline model here (or import from your py file)\n"
   ]
  },
  {
   "cell_type": "markdown",
   "id": "incorporate-oracle",
   "metadata": {},
   "source": [
    "> **Exercise 2B** Which threshold achieves the best performance in the baseline model? Which tradeoffs in performance can you find when increasing/decreasing the threshold? Hint: You can find\n",
    "the ideal threshold by using the validation set. \n",
    "\n",
    "Think of the \"openness\" of the open-set splits, how many unknown samples will you use per amount of known samples? Make sure this ratio is consistent throughout the project, or mention them explicitly if you want to deviate from it. "
   ]
  },
  {
   "cell_type": "code",
   "execution_count": 14,
   "id": "french-ranch",
   "metadata": {},
   "outputs": [],
   "source": [
    "# put your code here\n"
   ]
  },
  {
   "cell_type": "markdown",
   "id": "interesting-fault",
   "metadata": {},
   "source": [
    "> **Exercise 2C** Does the ideal threshold change across different data splits? If so, how? You can use the same data splits as for Question 1."
   ]
  },
  {
   "cell_type": "code",
   "execution_count": 13,
   "id": "square-enough",
   "metadata": {},
   "outputs": [],
   "source": [
    "# Find thresholds for a few open-set splits\n",
    "\n",
    "for split in list_of_splits: \n",
    "    threshold = ... \n",
    "    "
   ]
  },
  {
   "cell_type": "markdown",
   "id": "minor-postcard",
   "metadata": {},
   "source": [
    "\n",
    "Using (one or several of) the performance metrics found in 2A and the baseline model built, report performance(s) for different data splits. \n",
    "\n",
    "> **Exercise 2D** Which open set images are harder to detect than others? Explain the open-set splits you use. Report performance per open-set split."
   ]
  },
  {
   "cell_type": "code",
   "execution_count": null,
   "id": "treated-republic",
   "metadata": {},
   "outputs": [],
   "source": [
    "# Enter your code here. \n",
    "\n",
    "for split in list_of_splits: \n",
    "    baseline_performance = ... "
   ]
  },
  {
   "cell_type": "markdown",
   "id": "congressional-emperor",
   "metadata": {},
   "source": [
    "### References \n",
    "\n",
    "[1] Guo, Chuan, Geoff Pleiss, Yu Sun, and Kilian Q Weinberger. “On Calibration of Modern Neural Networks” (2017).\n",
    "\n",
    "[2] Hendrycks, Dan, and Kevin Gimpel. “A Baseline for Detecting Misclassified and Out-of-Distribution Examples in Neural Networks” (2016).\n",
    "\n",
    "[3] Hendrycks, Dan, Mantas Mazeika, and Thomas Dietterich. “Deep Anomaly Detection with Outlier Exposure” (2018).\n",
    "\n",
    "[4] Liang, Shiyu, Yixuan Li, and R Srikant. “Enhancing The Reliability of Out-of-Distribution Image Detection in Neural Networks” (2017).\n",
    "\n",
    "[5] Scheirer, W. J, A de Rezende Rocha, A Sapkota, and T. E Boult. “Toward Open Set Recognition.” IEEE transactions on pattern analysis and machine intelligence 35, no. 7 (2013): 1757–1772.\n"
   ]
  },
  {
   "cell_type": "code",
   "execution_count": null,
   "id": "light-conducting",
   "metadata": {},
   "outputs": [],
   "source": []
  }
 ],
 "metadata": {
  "kernelspec": {
   "display_name": "dl2021",
   "language": "python",
   "name": "dl2021"
  },
  "language_info": {
   "codemirror_mode": {
    "name": "ipython",
    "version": 3
   },
   "file_extension": ".py",
   "mimetype": "text/x-python",
   "name": "python",
   "nbconvert_exporter": "python",
   "pygments_lexer": "ipython3",
   "version": "3.9.7"
  }
 },
 "nbformat": 4,
 "nbformat_minor": 5
}
